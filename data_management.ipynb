{
 "cells": [
  {
   "cell_type": "code",
   "execution_count": 1,
   "metadata": {},
   "outputs": [],
   "source": [
    "import os\n",
    "import psycopg2\n",
    "import pandas as pd"
   ]
  },
  {
   "cell_type": "markdown",
   "metadata": {},
   "source": [
    "### 刪除表格"
   ]
  },
  {
   "cell_type": "code",
   "execution_count": 60,
   "metadata": {},
   "outputs": [],
   "source": [
    "DATABASE_URL = os.popen('heroku config:get DATABASE_URL -a qianqianguanjia').read()[:-1]\n",
    "\n",
    "conn = psycopg2.connect(DATABASE_URL, sslmode='require')\n",
    "cursor = conn.cursor()\n",
    "\n",
    "delete_table_query = '''DROP TABLE IF EXISTS calculate_data'''\n",
    "\n",
    "cursor.execute(delete_table_query)\n",
    "conn.commit()"
   ]
  },
  {
   "cell_type": "markdown",
   "metadata": {},
   "source": [
    "### 建立表格"
   ]
  },
  {
   "cell_type": "code",
   "execution_count": 61,
   "metadata": {},
   "outputs": [],
   "source": [
    "DATABASE_URL = os.popen('heroku config:get DATABASE_URL -a qianqianguanjia').read()[:-1]\n",
    "conn = psycopg2.connect(DATABASE_URL, sslmode='require')\n",
    "\n",
    "cursor = conn.cursor()\n",
    "\n",
    "SQL_order = '''CREATE TABLE payment_data(\n",
    "           record_no serial PRIMARY KEY,\n",
    "           group_id VARCHAR (50) NOT NULL,\n",
    "           payer VARCHAR (50) NOT NULL,\n",
    "           product VARCHAR (20) NOT NULL,\n",
    "           cost INTEGER NOT NULL,\n",
    "           date DATE NOT NULL\n",
    "        );'''\n",
    "cursor.execute(SQL_order)\n",
    "conn.commit()\n",
    "\n",
    "cursor.close()\n",
    "conn.close()"
   ]
  },
  {
   "cell_type": "code",
   "execution_count": 62,
   "metadata": {},
   "outputs": [],
   "source": [
    "DATABASE_URL = os.popen('heroku config:get DATABASE_URL -a qianqianguanjia').read()[:-1]\n",
    "conn = psycopg2.connect(DATABASE_URL, sslmode='require')\n",
    "\n",
    "cursor = conn.cursor()\n",
    "\n",
    "SQL_order = '''CREATE TABLE member_data(\n",
    "           record_no serial PRIMARY KEY,\n",
    "           group_id VARCHAR (50) NOT NULL,\n",
    "           member_id VARCHAR (50) NOT NULL\n",
    "        );'''\n",
    "cursor.execute(SQL_order)\n",
    "conn.commit()\n",
    "\n",
    "cursor.close()\n",
    "conn.close()"
   ]
  },
  {
   "cell_type": "code",
   "execution_count": 63,
   "metadata": {},
   "outputs": [],
   "source": [
    "DATABASE_URL = os.popen('heroku config:get DATABASE_URL -a qianqianguanjia').read()[:-1]\n",
    "conn = psycopg2.connect(DATABASE_URL, sslmode='require')\n",
    "\n",
    "cursor = conn.cursor()\n",
    "\n",
    "SQL_order = '''CREATE TABLE record_data(\n",
    "           record_no serial PRIMARY KEY,\n",
    "           group_id VARCHAR (50) NOT NULL,\n",
    "           user_id VARCHAR (50) NOT NULL,\n",
    "           condition VARCHAR (10),\n",
    "           product VARCHAR (50),\n",
    "           price VARCHAR (50),\n",
    "           date VARCHAR (50)\n",
    "        );'''\n",
    "cursor.execute(SQL_order)\n",
    "conn.commit()\n",
    "\n",
    "cursor.close()\n",
    "conn.close()"
   ]
  },
  {
   "cell_type": "code",
   "execution_count": 64,
   "metadata": {},
   "outputs": [],
   "source": [
    "DATABASE_URL = os.popen('heroku config:get DATABASE_URL -a qianqianguanjia').read()[:-1]\n",
    "conn = psycopg2.connect(DATABASE_URL, sslmode='require')\n",
    "\n",
    "cursor = conn.cursor()\n",
    "\n",
    "SQL_order = '''CREATE TABLE calculate_data(\n",
    "           record_no serial PRIMARY KEY,\n",
    "           group_id VARCHAR (50) NOT NULL,\n",
    "           condition VARCHAR (50)\n",
    "        );'''\n",
    "cursor.execute(SQL_order)\n",
    "conn.commit()\n",
    "\n",
    "cursor.close()\n",
    "conn.close()"
   ]
  },
  {
   "cell_type": "markdown",
   "metadata": {},
   "source": [
    "### 匯入資料"
   ]
  },
  {
   "cell_type": "code",
   "execution_count": 4,
   "metadata": {},
   "outputs": [
    {
     "name": "stdout",
     "output_type": "stream",
     "text": [
      "1 Record inserted successfully into record_data\n"
     ]
    },
    {
     "data": {
      "text/plain": [
       "<function connection.close>"
      ]
     },
     "execution_count": 4,
     "metadata": {},
     "output_type": "execute_result"
    }
   ],
   "source": [
    "DATABASE_URL = os.popen('heroku config:get DATABASE_URL -a qianqianguanjia').read()[:-1]\n",
    "conn = psycopg2.connect(DATABASE_URL, sslmode='require')\n",
    "cursor = conn.cursor()\n",
    "\n",
    "record = ('hey', 'In Bed', 'TRUE,飲料 書 餅乾,200,2022/08/27') #同時很多筆的時候要寫成list\n",
    "table_columns = '(group_id, user_id, product)'\n",
    "postgres_insert_query = f\"\"\"INSERT INTO record_data {table_columns} VALUES (%s, %s, %s);\"\"\"\n",
    "\n",
    "cursor.execute(postgres_insert_query, record) #同時很多筆的時候改成executemany\n",
    "conn.commit()\n",
    "\n",
    "count = cursor.rowcount\n",
    "\n",
    "print(count, \"Record inserted successfully into record_data\")\n",
    "\n",
    "cursor.close()\n",
    "conn.close"
   ]
  },
  {
   "cell_type": "code",
   "execution_count": 11,
   "metadata": {},
   "outputs": [
    {
     "ename": "InterfaceError",
     "evalue": "cursor already closed",
     "output_type": "error",
     "traceback": [
      "\u001b[1;31m---------------------------------------------------------------------------\u001b[0m",
      "\u001b[1;31mInterfaceError\u001b[0m                            Traceback (most recent call last)",
      "\u001b[1;32me:\\In Bed\\研究所\\chatbot\\Untitled-1.ipynb Cell 8\u001b[0m in \u001b[0;36m<cell line: 2>\u001b[1;34m()\u001b[0m\n\u001b[0;32m      <a href='vscode-notebook-cell:/e%3A/In%20Bed/%E7%A0%94%E7%A9%B6%E6%89%80/chatbot/Untitled-1.ipynb#X10sZmlsZQ%3D%3D?line=0'>1</a>\u001b[0m data \u001b[39m=\u001b[39m []\n\u001b[0;32m      <a href='vscode-notebook-cell:/e%3A/In%20Bed/%E7%A0%94%E7%A9%B6%E6%89%80/chatbot/Untitled-1.ipynb#X10sZmlsZQ%3D%3D?line=1'>2</a>\u001b[0m \u001b[39mwhile\u001b[39;00m \u001b[39mTrue\u001b[39;00m:\n\u001b[1;32m----> <a href='vscode-notebook-cell:/e%3A/In%20Bed/%E7%A0%94%E7%A9%B6%E6%89%80/chatbot/Untitled-1.ipynb#X10sZmlsZQ%3D%3D?line=2'>3</a>\u001b[0m     temp \u001b[39m=\u001b[39m cursor\u001b[39m.\u001b[39;49mfetchone()\n\u001b[0;32m      <a href='vscode-notebook-cell:/e%3A/In%20Bed/%E7%A0%94%E7%A9%B6%E6%89%80/chatbot/Untitled-1.ipynb#X10sZmlsZQ%3D%3D?line=3'>4</a>\u001b[0m     \u001b[39mif\u001b[39;00m temp:\n\u001b[0;32m      <a href='vscode-notebook-cell:/e%3A/In%20Bed/%E7%A0%94%E7%A9%B6%E6%89%80/chatbot/Untitled-1.ipynb#X10sZmlsZQ%3D%3D?line=4'>5</a>\u001b[0m         data\u001b[39m.\u001b[39mappend(temp)\n",
      "\u001b[1;31mInterfaceError\u001b[0m: cursor already closed"
     ]
    }
   ],
   "source": [
    "data = []\n",
    "while True:\n",
    "    temp = cursor.fetchone()\n",
    "    if temp:\n",
    "        data.append(temp)\n",
    "    else:\n",
    "        break\n",
    "print(data)"
   ]
  },
  {
   "cell_type": "code",
   "execution_count": 60,
   "metadata": {},
   "outputs": [],
   "source": [
    "DATABASE_URL = os.popen('heroku config:get DATABASE_URL -a qianqianguanjia').read()[:-1]\n",
    "\n",
    "conn = psycopg2.connect(DATABASE_URL, sslmode='require')\n",
    "cursor = conn.cursor()\n",
    "target = 'C697397db6633abf8682a1f9c48973d5a'\n",
    "delete_temp_data = f'''DELETE FROM member_data \n",
    "                       WHERE group_id = '{target}';\n",
    "                    '''\n",
    "\n",
    "cursor.execute(delete_temp_data)\n",
    "conn.commit()\n",
    "\n",
    "cursor.close()\n",
    "conn.close()\n"
   ]
  },
  {
   "cell_type": "code",
   "execution_count": 16,
   "metadata": {},
   "outputs": [],
   "source": [
    "DATABASE_URL = os.popen('heroku config:get DATABASE_URL -a qianqianguanjia').read()[:-1]\n",
    "\n",
    "conn = psycopg2.connect(DATABASE_URL, sslmode='require')\n",
    "cursor = conn.cursor()\n",
    "n = \"08\"\n",
    "group = \"('cookie')\"\n",
    "postgres_select_query = f\"\"\"SELECT * FROM payment_data;\n",
    "                            \"\"\"\n",
    "\n",
    "cursor.execute(postgres_select_query)\n",
    "raw = cursor.fetchall()"
   ]
  },
  {
   "cell_type": "code",
   "execution_count": 17,
   "metadata": {},
   "outputs": [
    {
     "data": {
      "text/plain": [
       "[(3,\n",
       "  'C697397db6633abf8682a1f9c48973d5a',\n",
       "  'U70fb335841b02167ed020507b7b2eda8',\n",
       "  '水費',\n",
       "  800,\n",
       "  datetime.date(2022, 9, 15)),\n",
       " (4,\n",
       "  'C697397db6633abf8682a1f9c48973d5a',\n",
       "  'U70fb335841b02167ed020507b7b2eda8',\n",
       "  '水費',\n",
       "  800,\n",
       "  datetime.date(2022, 9, 15)),\n",
       " (5,\n",
       "  'C697397db6633abf8682a1f9c48973d5a',\n",
       "  'U70fb335841b02167ed020507b7b2eda8',\n",
       "  '網路費',\n",
       "  1000,\n",
       "  datetime.date(2022, 9, 15)),\n",
       " (6,\n",
       "  'C697397db6633abf8682a1f9c48973d5a',\n",
       "  'U70fb335841b02167ed020507b7b2eda8',\n",
       "  '電費',\n",
       "  1300,\n",
       "  datetime.date(2022, 9, 17)),\n",
       " (7,\n",
       "  'Cdc247cf9ebf7190fb4252e3dd637a4f6',\n",
       "  'U70fb335841b02167ed020507b7b2eda8',\n",
       "  '水費',\n",
       "  800,\n",
       "  datetime.date(2022, 9, 17)),\n",
       " (8,\n",
       "  'Cdc247cf9ebf7190fb4252e3dd637a4f6',\n",
       "  'U0ea6425c1b0b7a8a989780bdd13e27d1',\n",
       "  '午餐',\n",
       "  100,\n",
       "  datetime.date(2022, 9, 23)),\n",
       " (9,\n",
       "  'Cdc247cf9ebf7190fb4252e3dd637a4f6',\n",
       "  'U8f2504e24b41980be102b5d54ba0a39a',\n",
       "  '電費',\n",
       "  500,\n",
       "  datetime.date(2022, 9, 23)),\n",
       " (10,\n",
       "  'Cdc247cf9ebf7190fb4252e3dd637a4f6',\n",
       "  'U50d2f838f2a3debafd1c56296f783978',\n",
       "  '卡啦雞腿堡套餐',\n",
       "  100,\n",
       "  datetime.date(2022, 9, 23)),\n",
       " (11,\n",
       "  'Cdc247cf9ebf7190fb4252e3dd637a4f6',\n",
       "  'U3a6c9e79f9cf8e61c116b0f738106959',\n",
       "  '清潔費',\n",
       "  100,\n",
       "  datetime.date(2022, 9, 23)),\n",
       " (12,\n",
       "  'Cdc247cf9ebf7190fb4252e3dd637a4f6',\n",
       "  'U406d9022828bdcd30c3aceb24ecf3099',\n",
       "  '長祐夢想基金',\n",
       "  9000,\n",
       "  datetime.date(2022, 9, 23)),\n",
       " (13,\n",
       "  'Cdc247cf9ebf7190fb4252e3dd637a4f6',\n",
       "  'U176bf4e5d2ddd3091af800f355a1ffda',\n",
       "  '哆啦',\n",
       "  100,\n",
       "  datetime.date(2022, 9, 23)),\n",
       " (14,\n",
       "  'Cdc247cf9ebf7190fb4252e3dd637a4f6',\n",
       "  'Ub20b8888af9585580565d8297de42ff4',\n",
       "  '冷氣',\n",
       "  2000,\n",
       "  datetime.date(2022, 9, 22)),\n",
       " (15,\n",
       "  'Cdc247cf9ebf7190fb4252e3dd637a4f6',\n",
       "  'U0ea6425c1b0b7a8a989780bdd13e27d1',\n",
       "  '點心',\n",
       "  100,\n",
       "  datetime.date(2022, 9, 23)),\n",
       " (16,\n",
       "  'Cdc247cf9ebf7190fb4252e3dd637a4f6',\n",
       "  'U0ea6425c1b0b7a8a989780bdd13e27d1',\n",
       "  '飲料',\n",
       "  60,\n",
       "  datetime.date(2022, 9, 23)),\n",
       " (17,\n",
       "  'Cdc247cf9ebf7190fb4252e3dd637a4f6',\n",
       "  'U406d9022828bdcd30c3aceb24ecf3099',\n",
       "  '長祐夢想基金',\n",
       "  9,\n",
       "  datetime.date(2022, 9, 23)),\n",
       " (18,\n",
       "  'Cdc247cf9ebf7190fb4252e3dd637a4f6',\n",
       "  'U406d9022828bdcd30c3aceb24ecf3099',\n",
       "  '何孟青冷氣費',\n",
       "  46202,\n",
       "  datetime.date(2022, 9, 1)),\n",
       " (19,\n",
       "  'Cdc247cf9ebf7190fb4252e3dd637a4f6',\n",
       "  'U406d9022828bdcd30c3aceb24ecf3099',\n",
       "  '長祐夢想基金',\n",
       "  9,\n",
       "  datetime.date(2022, 9, 23)),\n",
       " (20,\n",
       "  'Cdc247cf9ebf7190fb4252e3dd637a4f6',\n",
       "  'U406d9022828bdcd30c3aceb24ecf3099',\n",
       "  '何孟青冷氣費',\n",
       "  46202,\n",
       "  datetime.date(2022, 9, 1)),\n",
       " (21,\n",
       "  'Cdc247cf9ebf7190fb4252e3dd637a4f6',\n",
       "  'U176bf4e5d2ddd3091af800f355a1ffda',\n",
       "  '蘋果電腦',\n",
       "  23400,\n",
       "  datetime.date(2022, 10, 10)),\n",
       " (22,\n",
       "  'Cdc247cf9ebf7190fb4252e3dd637a4f6',\n",
       "  'U176bf4e5d2ddd3091af800f355a1ffda',\n",
       "  'iPhone',\n",
       "  131415,\n",
       "  datetime.date(2023, 9, 1)),\n",
       " (23,\n",
       "  'Cdc247cf9ebf7190fb4252e3dd637a4f6',\n",
       "  'U406d9022828bdcd30c3aceb24ecf3099',\n",
       "  '何孟青養老金',\n",
       "  678678,\n",
       "  datetime.date(2022, 9, 1)),\n",
       " (24,\n",
       "  'Cdc247cf9ebf7190fb4252e3dd637a4f6',\n",
       "  'U70fb335841b02167ed020507b7b2eda8',\n",
       "  '肯德基',\n",
       "  753,\n",
       "  datetime.date(2022, 9, 23)),\n",
       " (25,\n",
       "  'Cdc247cf9ebf7190fb4252e3dd637a4f6',\n",
       "  'U3a6c9e79f9cf8e61c116b0f738106959',\n",
       "  '書籍',\n",
       "  8788,\n",
       "  datetime.date(2022, 7, 4)),\n",
       " (26,\n",
       "  'Cdc247cf9ebf7190fb4252e3dd637a4f6',\n",
       "  'U406d9022828bdcd30c3aceb24ecf3099',\n",
       "  '發大財',\n",
       "  1245,\n",
       "  datetime.date(1998, 1, 7)),\n",
       " (27,\n",
       "  'Cdc247cf9ebf7190fb4252e3dd637a4f6',\n",
       "  'U50d2f838f2a3debafd1c56296f783978',\n",
       "  '豬肉滿福堡加蛋',\n",
       "  79,\n",
       "  datetime.date(2022, 9, 23))]"
      ]
     },
     "execution_count": 17,
     "metadata": {},
     "output_type": "execute_result"
    }
   ],
   "source": [
    "data = raw\n",
    "data"
   ]
  },
  {
   "cell_type": "code",
   "execution_count": 69,
   "metadata": {},
   "outputs": [],
   "source": [
    "df = pd.DataFrame(data, columns = ['record_num', 'group_id', 'user_id', 'condition', 'product', 'price', 'date'])"
   ]
  },
  {
   "cell_type": "code",
   "execution_count": 70,
   "metadata": {},
   "outputs": [
    {
     "data": {
      "text/html": [
       "<div>\n",
       "<style scoped>\n",
       "    .dataframe tbody tr th:only-of-type {\n",
       "        vertical-align: middle;\n",
       "    }\n",
       "\n",
       "    .dataframe tbody tr th {\n",
       "        vertical-align: top;\n",
       "    }\n",
       "\n",
       "    .dataframe thead th {\n",
       "        text-align: right;\n",
       "    }\n",
       "</style>\n",
       "<table border=\"1\" class=\"dataframe\">\n",
       "  <thead>\n",
       "    <tr style=\"text-align: right;\">\n",
       "      <th></th>\n",
       "      <th>record_num</th>\n",
       "      <th>group_id</th>\n",
       "      <th>user_id</th>\n",
       "      <th>condition</th>\n",
       "      <th>product</th>\n",
       "      <th>price</th>\n",
       "      <th>date</th>\n",
       "    </tr>\n",
       "  </thead>\n",
       "  <tbody>\n",
       "    <tr>\n",
       "      <th>0</th>\n",
       "      <td>1</td>\n",
       "      <td>C697397db6633abf8682a1f9c48973d5a</td>\n",
       "      <td>U70fb335841b02167ed020507b7b2eda8</td>\n",
       "      <td>None</td>\n",
       "      <td>None</td>\n",
       "      <td>None</td>\n",
       "      <td>None</td>\n",
       "    </tr>\n",
       "    <tr>\n",
       "      <th>1</th>\n",
       "      <td>2</td>\n",
       "      <td>C697397db6633abf8682a1f9c48973d5a</td>\n",
       "      <td>U554e3c02d7915d1e4d096ba0bc00b36c</td>\n",
       "      <td>true</td>\n",
       "      <td>房租</td>\n",
       "      <td>10000</td>\n",
       "      <td>2022-09-15</td>\n",
       "    </tr>\n",
       "  </tbody>\n",
       "</table>\n",
       "</div>"
      ],
      "text/plain": [
       "   record_num                           group_id  \\\n",
       "0           1  C697397db6633abf8682a1f9c48973d5a   \n",
       "1           2  C697397db6633abf8682a1f9c48973d5a   \n",
       "\n",
       "                             user_id condition product  price        date  \n",
       "0  U70fb335841b02167ed020507b7b2eda8      None    None   None        None  \n",
       "1  U554e3c02d7915d1e4d096ba0bc00b36c      true      房租  10000  2022-09-15  "
      ]
     },
     "execution_count": 70,
     "metadata": {},
     "output_type": "execute_result"
    }
   ],
   "source": [
    "df"
   ]
  },
  {
   "cell_type": "code",
   "execution_count": 4,
   "metadata": {},
   "outputs": [],
   "source": [
    "def call_condition(group_id, user_id):\n",
    "    \n",
    "    DATABASE_URL = os.popen('heroku config:get DATABASE_URL -a qianqianguanjia').read()[:-1]\n",
    "\n",
    "    conn = psycopg2.connect(DATABASE_URL, sslmode='require')\n",
    "    cursor = conn.cursor()\n",
    "    group = \"('\"+ group_id + \"')\"\n",
    "    user = \"('\"+ user_id + \"')\"\n",
    "    postgres_select_query = f\"\"\"SELECT * FROM record_data \n",
    "                            WHERE group_id = {group} AND user_id = {user};\n",
    "                            \"\"\"\n",
    "    cursor.execute(postgres_select_query)\n",
    "    raw_data = cursor.fetchall()\n",
    "    data = pd.DataFrame(raw_data, columns = ['record_num', 'group_id', 'user_id', 'condition', 'product', 'price', 'date'])\n",
    "    \n",
    "    cursor.close()\n",
    "    conn.close()\n",
    "\n",
    "    return data"
   ]
  },
  {
   "cell_type": "code",
   "execution_count": 6,
   "metadata": {},
   "outputs": [],
   "source": [
    "def flex_prepare_record(data): \n",
    "    length = len(data[\"product\"][0].split(\" \"))\n",
    "    product_list = data[\"product\"][0].split(\" \")\n",
    "    price_list = data[\"price\"][0].split(\" \")\n",
    "    date_list = data[\"date\"][0].split(\" \")\n",
    "    for i in range(len(price_list)):\n",
    "        price_list[i] = int(price_list[i])\n",
    "    data_list = []\n",
    "    for i in range(length):\n",
    "        data_tuple = (data[\"group_id\"][0], data[\"user_id\"][0], product_list[i], price_list[i], date_list[i])\n",
    "        data_list.append(data_tuple)\n",
    "    return data_list"
   ]
  },
  {
   "cell_type": "code",
   "execution_count": 5,
   "metadata": {},
   "outputs": [
    {
     "data": {
      "text/html": [
       "<div>\n",
       "<style scoped>\n",
       "    .dataframe tbody tr th:only-of-type {\n",
       "        vertical-align: middle;\n",
       "    }\n",
       "\n",
       "    .dataframe tbody tr th {\n",
       "        vertical-align: top;\n",
       "    }\n",
       "\n",
       "    .dataframe thead th {\n",
       "        text-align: right;\n",
       "    }\n",
       "</style>\n",
       "<table border=\"1\" class=\"dataframe\">\n",
       "  <thead>\n",
       "    <tr style=\"text-align: right;\">\n",
       "      <th></th>\n",
       "      <th>record_num</th>\n",
       "      <th>group_id</th>\n",
       "      <th>user_id</th>\n",
       "      <th>condition</th>\n",
       "      <th>product</th>\n",
       "      <th>price</th>\n",
       "      <th>date</th>\n",
       "    </tr>\n",
       "  </thead>\n",
       "  <tbody>\n",
       "    <tr>\n",
       "      <th>0</th>\n",
       "      <td>4</td>\n",
       "      <td>C697397db6633abf8682a1f9c48973d5a</td>\n",
       "      <td>U70fb335841b02167ed020507b7b2eda8</td>\n",
       "      <td>true</td>\n",
       "      <td>水費</td>\n",
       "      <td>800</td>\n",
       "      <td>2022-09-15</td>\n",
       "    </tr>\n",
       "  </tbody>\n",
       "</table>\n",
       "</div>"
      ],
      "text/plain": [
       "   record_num                           group_id  \\\n",
       "0           4  C697397db6633abf8682a1f9c48973d5a   \n",
       "\n",
       "                             user_id condition product price        date  \n",
       "0  U70fb335841b02167ed020507b7b2eda8      true      水費   800  2022-09-15  "
      ]
     },
     "execution_count": 5,
     "metadata": {},
     "output_type": "execute_result"
    }
   ],
   "source": [
    "data = call_condition(\"C697397db6633abf8682a1f9c48973d5a\", \"U70fb335841b02167ed020507b7b2eda8\")\n",
    "data"
   ]
  },
  {
   "cell_type": "code",
   "execution_count": 12,
   "metadata": {},
   "outputs": [],
   "source": [
    "def line_insert_record(record_list):\n",
    "    DATABASE_URL = os.popen('heroku config:get DATABASE_URL -a qianqianguanjia').read()[:-1]\n",
    "\n",
    "    conn = psycopg2.connect(DATABASE_URL, sslmode='require')\n",
    "    cursor = conn.cursor()\n",
    "\n",
    "    table_columns = '(group_id, payer, product, cost, date)'\n",
    "    postgres_insert_query = f\"\"\"INSERT INTO payment_data {table_columns} VALUES (%s,%s,%s,%s,%s)\"\"\"\n",
    "\n",
    "    cursor.executemany(postgres_insert_query, record_list)\n",
    "    conn.commit()\n",
    "\n",
    "    message = f\"恭喜您！ {cursor.rowcount} 筆資料成功由錢錢管家掌握！\"\n",
    "    print(message)\n",
    "\n",
    "    cursor.close()\n",
    "    conn.close()\n",
    "    \n",
    "    return message"
   ]
  },
  {
   "cell_type": "code",
   "execution_count": 14,
   "metadata": {},
   "outputs": [],
   "source": [
    "def close_condition(group_id, user_id):\n",
    "    DATABASE_URL = os.popen('heroku config:get DATABASE_URL -a qianqianguanjia').read()[:-1]\n",
    "\n",
    "    conn = psycopg2.connect(DATABASE_URL, sslmode='require')\n",
    "    cursor = conn.cursor()\n",
    "    group_id = \"('\" + group_id + \"')\"\n",
    "    user_id = \"('\" + user_id + \"')\"\n",
    "    delete_temp_data = f'''UPDATE record_data \n",
    "                           SET condition = NULL WHERE group_id = {group_id} AND user_id = {user_id};\n",
    "                           UPDATE record_data\n",
    "                           SET product = NULL WHERE group_id = {group_id} AND user_id = {user_id};\n",
    "                           UPDATE record_data\n",
    "                           SET price = NULL WHERE group_id = {group_id} AND user_id = {user_id};\n",
    "                           UPDATE record_data\n",
    "                           SET date = NULL WHERE group_id = {group_id} AND user_id = {user_id};'''\n",
    "\n",
    "    cursor.execute(delete_temp_data)\n",
    "    conn.commit()\n",
    "    message = f\"完成！\"\n",
    "    print(message)\n",
    "\n",
    "    cursor.close()\n",
    "    conn.close()"
   ]
  },
  {
   "cell_type": "code",
   "execution_count": 10,
   "metadata": {},
   "outputs": [],
   "source": [
    "if data[\"date\"][0] is not None:      \n",
    "                record_list = flex_prepare_record(data)\n"
   ]
  },
  {
   "cell_type": "code",
   "execution_count": 11,
   "metadata": {},
   "outputs": [
    {
     "data": {
      "text/plain": [
       "[('C697397db6633abf8682a1f9c48973d5a',\n",
       "  'U70fb335841b02167ed020507b7b2eda8',\n",
       "  '水費',\n",
       "  800,\n",
       "  '2022-09-15')]"
      ]
     },
     "execution_count": 11,
     "metadata": {},
     "output_type": "execute_result"
    }
   ],
   "source": [
    "record_list"
   ]
  },
  {
   "cell_type": "code",
   "execution_count": 13,
   "metadata": {},
   "outputs": [
    {
     "name": "stdout",
     "output_type": "stream",
     "text": [
      "恭喜您！ 1 筆資料成功由錢錢管家掌握！\n"
     ]
    },
    {
     "data": {
      "text/plain": [
       "'恭喜您！ 1 筆資料成功由錢錢管家掌握！'"
      ]
     },
     "execution_count": 13,
     "metadata": {},
     "output_type": "execute_result"
    }
   ],
   "source": [
    "line_insert_record()"
   ]
  },
  {
   "cell_type": "code",
   "execution_count": 15,
   "metadata": {},
   "outputs": [
    {
     "name": "stdout",
     "output_type": "stream",
     "text": [
      "完成！\n"
     ]
    }
   ],
   "source": [
    "close_condition(\"C697397db6633abf8682a1f9c48973d5a\", \"U70fb335841b02167ed020507b7b2eda8\")"
   ]
  },
  {
   "cell_type": "code",
   "execution_count": 42,
   "metadata": {},
   "outputs": [
    {
     "ename": "KeyError",
     "evalue": "'price'",
     "output_type": "error",
     "traceback": [
      "\u001b[1;31m---------------------------------------------------------------------------\u001b[0m",
      "\u001b[1;31mKeyError\u001b[0m                                  Traceback (most recent call last)",
      "File \u001b[1;32me:\\Python\\lib\\site-packages\\pandas\\core\\indexes\\base.py:3621\u001b[0m, in \u001b[0;36mIndex.get_loc\u001b[1;34m(self, key, method, tolerance)\u001b[0m\n\u001b[0;32m   3620\u001b[0m \u001b[39mtry\u001b[39;00m:\n\u001b[1;32m-> 3621\u001b[0m     \u001b[39mreturn\u001b[39;00m \u001b[39mself\u001b[39;49m\u001b[39m.\u001b[39;49m_engine\u001b[39m.\u001b[39;49mget_loc(casted_key)\n\u001b[0;32m   3622\u001b[0m \u001b[39mexcept\u001b[39;00m \u001b[39mKeyError\u001b[39;00m \u001b[39mas\u001b[39;00m err:\n",
      "File \u001b[1;32me:\\Python\\lib\\site-packages\\pandas\\_libs\\index.pyx:136\u001b[0m, in \u001b[0;36mpandas._libs.index.IndexEngine.get_loc\u001b[1;34m()\u001b[0m\n",
      "File \u001b[1;32me:\\Python\\lib\\site-packages\\pandas\\_libs\\index.pyx:163\u001b[0m, in \u001b[0;36mpandas._libs.index.IndexEngine.get_loc\u001b[1;34m()\u001b[0m\n",
      "File \u001b[1;32mpandas\\_libs\\hashtable_class_helper.pxi:5198\u001b[0m, in \u001b[0;36mpandas._libs.hashtable.PyObjectHashTable.get_item\u001b[1;34m()\u001b[0m\n",
      "File \u001b[1;32mpandas\\_libs\\hashtable_class_helper.pxi:5206\u001b[0m, in \u001b[0;36mpandas._libs.hashtable.PyObjectHashTable.get_item\u001b[1;34m()\u001b[0m\n",
      "\u001b[1;31mKeyError\u001b[0m: 'price'",
      "\nThe above exception was the direct cause of the following exception:\n",
      "\u001b[1;31mKeyError\u001b[0m                                  Traceback (most recent call last)",
      "\u001b[1;32me:\\In Bed\\研究所\\chatbot\\data_management.ipynb Cell 17\u001b[0m in \u001b[0;36m<cell line: 1>\u001b[1;34m()\u001b[0m\n\u001b[1;32m----> <a href='vscode-notebook-cell:/e%3A/In%20Bed/%E7%A0%94%E7%A9%B6%E6%89%80/chatbot/data_management.ipynb#X64sZmlsZQ%3D%3D?line=0'>1</a>\u001b[0m record_list \u001b[39m=\u001b[39m flex_prepare_record(df)\n\u001b[0;32m      <a href='vscode-notebook-cell:/e%3A/In%20Bed/%E7%A0%94%E7%A9%B6%E6%89%80/chatbot/data_management.ipynb#X64sZmlsZQ%3D%3D?line=1'>2</a>\u001b[0m record_tuple \u001b[39m=\u001b[39m [record_list]\n",
      "\u001b[1;32me:\\In Bed\\研究所\\chatbot\\data_management.ipynb Cell 17\u001b[0m in \u001b[0;36mflex_prepare_record\u001b[1;34m(data)\u001b[0m\n\u001b[0;32m      <a href='vscode-notebook-cell:/e%3A/In%20Bed/%E7%A0%94%E7%A9%B6%E6%89%80/chatbot/data_management.ipynb#X64sZmlsZQ%3D%3D?line=1'>2</a>\u001b[0m length \u001b[39m=\u001b[39m \u001b[39mlen\u001b[39m(data[\u001b[39m\"\u001b[39m\u001b[39mproduct\u001b[39m\u001b[39m\"\u001b[39m][\u001b[39m0\u001b[39m]\u001b[39m.\u001b[39msplit(\u001b[39m\"\u001b[39m\u001b[39m \u001b[39m\u001b[39m\"\u001b[39m))\n\u001b[0;32m      <a href='vscode-notebook-cell:/e%3A/In%20Bed/%E7%A0%94%E7%A9%B6%E6%89%80/chatbot/data_management.ipynb#X64sZmlsZQ%3D%3D?line=2'>3</a>\u001b[0m product_list \u001b[39m=\u001b[39m data[\u001b[39m\"\u001b[39m\u001b[39mproduct\u001b[39m\u001b[39m\"\u001b[39m][\u001b[39m0\u001b[39m]\u001b[39m.\u001b[39msplit(\u001b[39m\"\u001b[39m\u001b[39m \u001b[39m\u001b[39m\"\u001b[39m)\n\u001b[1;32m----> <a href='vscode-notebook-cell:/e%3A/In%20Bed/%E7%A0%94%E7%A9%B6%E6%89%80/chatbot/data_management.ipynb#X64sZmlsZQ%3D%3D?line=3'>4</a>\u001b[0m price_list \u001b[39m=\u001b[39m data[\u001b[39m\"\u001b[39;49m\u001b[39mprice\u001b[39;49m\u001b[39m\"\u001b[39;49m][\u001b[39m0\u001b[39m]\u001b[39m.\u001b[39msplit(\u001b[39m\"\u001b[39m\u001b[39m \u001b[39m\u001b[39m\"\u001b[39m)\n\u001b[0;32m      <a href='vscode-notebook-cell:/e%3A/In%20Bed/%E7%A0%94%E7%A9%B6%E6%89%80/chatbot/data_management.ipynb#X64sZmlsZQ%3D%3D?line=4'>5</a>\u001b[0m date_list \u001b[39m=\u001b[39m data[\u001b[39m\"\u001b[39m\u001b[39mdate\u001b[39m\u001b[39m\"\u001b[39m][\u001b[39m0\u001b[39m]\u001b[39m.\u001b[39msplit(\u001b[39m\"\u001b[39m\u001b[39m \u001b[39m\u001b[39m\"\u001b[39m)\n\u001b[0;32m      <a href='vscode-notebook-cell:/e%3A/In%20Bed/%E7%A0%94%E7%A9%B6%E6%89%80/chatbot/data_management.ipynb#X64sZmlsZQ%3D%3D?line=5'>6</a>\u001b[0m \u001b[39mfor\u001b[39;00m i \u001b[39min\u001b[39;00m \u001b[39mrange\u001b[39m(\u001b[39mlen\u001b[39m(price_list)):\n",
      "File \u001b[1;32me:\\Python\\lib\\site-packages\\pandas\\core\\frame.py:3505\u001b[0m, in \u001b[0;36mDataFrame.__getitem__\u001b[1;34m(self, key)\u001b[0m\n\u001b[0;32m   3503\u001b[0m \u001b[39mif\u001b[39;00m \u001b[39mself\u001b[39m\u001b[39m.\u001b[39mcolumns\u001b[39m.\u001b[39mnlevels \u001b[39m>\u001b[39m \u001b[39m1\u001b[39m:\n\u001b[0;32m   3504\u001b[0m     \u001b[39mreturn\u001b[39;00m \u001b[39mself\u001b[39m\u001b[39m.\u001b[39m_getitem_multilevel(key)\n\u001b[1;32m-> 3505\u001b[0m indexer \u001b[39m=\u001b[39m \u001b[39mself\u001b[39;49m\u001b[39m.\u001b[39;49mcolumns\u001b[39m.\u001b[39;49mget_loc(key)\n\u001b[0;32m   3506\u001b[0m \u001b[39mif\u001b[39;00m is_integer(indexer):\n\u001b[0;32m   3507\u001b[0m     indexer \u001b[39m=\u001b[39m [indexer]\n",
      "File \u001b[1;32me:\\Python\\lib\\site-packages\\pandas\\core\\indexes\\base.py:3623\u001b[0m, in \u001b[0;36mIndex.get_loc\u001b[1;34m(self, key, method, tolerance)\u001b[0m\n\u001b[0;32m   3621\u001b[0m     \u001b[39mreturn\u001b[39;00m \u001b[39mself\u001b[39m\u001b[39m.\u001b[39m_engine\u001b[39m.\u001b[39mget_loc(casted_key)\n\u001b[0;32m   3622\u001b[0m \u001b[39mexcept\u001b[39;00m \u001b[39mKeyError\u001b[39;00m \u001b[39mas\u001b[39;00m err:\n\u001b[1;32m-> 3623\u001b[0m     \u001b[39mraise\u001b[39;00m \u001b[39mKeyError\u001b[39;00m(key) \u001b[39mfrom\u001b[39;00m \u001b[39merr\u001b[39;00m\n\u001b[0;32m   3624\u001b[0m \u001b[39mexcept\u001b[39;00m \u001b[39mTypeError\u001b[39;00m:\n\u001b[0;32m   3625\u001b[0m     \u001b[39m# If we have a listlike key, _check_indexing_error will raise\u001b[39;00m\n\u001b[0;32m   3626\u001b[0m     \u001b[39m#  InvalidIndexError. Otherwise we fall through and re-raise\u001b[39;00m\n\u001b[0;32m   3627\u001b[0m     \u001b[39m#  the TypeError.\u001b[39;00m\n\u001b[0;32m   3628\u001b[0m     \u001b[39mself\u001b[39m\u001b[39m.\u001b[39m_check_indexing_error(key)\n",
      "\u001b[1;31mKeyError\u001b[0m: 'price'"
     ]
    }
   ],
   "source": [
    "record_list = flex_prepare_record(df)\n",
    "record_tuple = [record_list]"
   ]
  },
  {
   "cell_type": "code",
   "execution_count": 10,
   "metadata": {},
   "outputs": [
    {
     "name": "stdout",
     "output_type": "stream",
     "text": [
      "恭喜您！ 1 筆資料成功由錢錢管家掌握！\n"
     ]
    }
   ],
   "source": [
    "DATABASE_URL = os.popen('heroku config:get DATABASE_URL -a qianqianguanjia').read()[:-1]\n",
    "\n",
    "conn = psycopg2.connect(DATABASE_URL, sslmode='require')\n",
    "cursor = conn.cursor()\n",
    "\n",
    "table_columns = '(group_id, payer, product, cost, date)'\n",
    "postgres_insert_query = f\"\"\"INSERT INTO payment_data {table_columns} VALUES (%s,%s,%s,%s,%s)\"\"\"\n",
    "\n",
    "cursor.executemany(postgres_insert_query, record_tuple)\n",
    "conn.commit()\n",
    "\n",
    "message = f\"恭喜您！ {cursor.rowcount} 筆資料成功由錢錢管家掌握！\"\n",
    "print(message)\n",
    "\n",
    "cursor.close()\n",
    "conn.close()"
   ]
  },
  {
   "cell_type": "code",
   "execution_count": 53,
   "metadata": {},
   "outputs": [],
   "source": [
    "def flex_prepare_record(data): \n",
    "    length = len(data[\"product\"][0].split(\" \"))\n",
    "    product_list = data[\"product\"][0].split(\" \")\n",
    "    price_list = data[\"cost\"][0].split(\" \")\n",
    "    date_list = data[\"date\"][0].split(\" \")\n",
    "    for i in range(len(price_list)):\n",
    "        price_list[i] = int(price_list[i])\n",
    "    data_list = []\n",
    "    for i in range(length):\n",
    "        data_tuple = (data[\"group_id\"][0], data[\"member_id\"][0], product_list[i], price_list[i], date_list[i])\n",
    "        data_list.append(data_tuple)\n",
    "    return data_list"
   ]
  },
  {
   "cell_type": "code",
   "execution_count": 32,
   "metadata": {},
   "outputs": [],
   "source": [
    "trry = flex_prepare_record(df)\n",
    "insert_data = [trry]"
   ]
  },
  {
   "cell_type": "code",
   "execution_count": 33,
   "metadata": {},
   "outputs": [],
   "source": [
    "group_id = \"C697397db6633abf8682a1f9c48973d5a\"\n",
    "user_id = \"U70fb335841b02167ed020507b7b2eda8\""
   ]
  },
  {
   "cell_type": "code",
   "execution_count": 41,
   "metadata": {},
   "outputs": [
    {
     "data": {
      "text/plain": [
       "[200, 500]"
      ]
     },
     "execution_count": 41,
     "metadata": {},
     "output_type": "execute_result"
    }
   ],
   "source": [
    "price_list = \"200 500\"\n",
    "list = price_list.split(\" \")\n",
    "for i in range(len(list)):\n",
    "        list[i] = int(list[i])\n",
    "list"
   ]
  },
  {
   "cell_type": "code",
   "execution_count": 35,
   "metadata": {},
   "outputs": [],
   "source": [
    "insert_data = [('C697397db6633abf8682a1f9c48973d5a',\n",
    " 'U70fb335841b02167ed020507b7b2eda8',\n",
    " '水費',\n",
    " '2022\\-09\\-15',\n",
    " '2022\\-09\\-15')]"
   ]
  },
  {
   "cell_type": "code",
   "execution_count": 35,
   "metadata": {},
   "outputs": [
    {
     "name": "stdout",
     "output_type": "stream",
     "text": [
      "完成！\n"
     ]
    }
   ],
   "source": [
    "DATABASE_URL = os.popen('heroku config:get DATABASE_URL -a qianqianguanjia').read()[:-1]\n",
    "conn = psycopg2.connect(DATABASE_URL, sslmode='require')\n",
    "cursor = conn.cursor()\n",
    "group_id = \"('\" + group_id + \"')\"\n",
    "user_id = \"('\" + user_id + \"')\"\n",
    "delete_temp_data = f'''UPDATE record_data \n",
    "                           SET condition = NULL WHERE group_id = {group_id} AND user_id = {user_id};\n",
    "                           UPDATE record_data\n",
    "                           SET product = NULL WHERE group_id = {group_id} AND user_id = {user_id};\n",
    "                           UPDATE record_data\n",
    "                           SET price = NULL WHERE group_id = {group_id} AND user_id = {user_id};\n",
    "                           UPDATE record_data\n",
    "                           SET date = NULL WHERE group_id = {group_id} AND user_id = {user_id};'''\n",
    "\n",
    "cursor.execute(delete_temp_data)\n",
    "conn.commit()\n",
    "message = f\"完成！\"\n",
    "print(message)\n",
    "\n",
    "cursor.close()\n",
    "conn.close()\n",
    "    "
   ]
  },
  {
   "cell_type": "code",
   "execution_count": 36,
   "metadata": {},
   "outputs": [],
   "source": [
    "DATABASE_URL = os.popen('heroku config:get DATABASE_URL -a qianqianguanjia').read()[:-1]\n",
    "\n",
    "conn = psycopg2.connect(DATABASE_URL, sslmode='require')\n",
    "cursor = conn.cursor()\n",
    "n = \"08\"\n",
    "group = \"('cookie')\"\n",
    "postgres_select_query = f\"\"\"SELECT * FROM record_data\n",
    "                            WHERE group_id = {group_id} AND user_id = {user_id};\n",
    "                            \"\"\"\n",
    "\n",
    "cursor.execute(postgres_select_query)\n",
    "raw = cursor.fetchall()"
   ]
  },
  {
   "cell_type": "code",
   "execution_count": 39,
   "metadata": {},
   "outputs": [
    {
     "data": {
      "text/plain": [
       "[(22,\n",
       "  'C697397db6633abf8682a1f9c48973d5a',\n",
       "  'U70fb335841b02167ed020507b7b2eda8',\n",
       "  'true',\n",
       "  '水費 電費',\n",
       "  '800 1200',\n",
       "  '2022-09-15 2022-09-17')]"
      ]
     },
     "execution_count": 39,
     "metadata": {},
     "output_type": "execute_result"
    }
   ],
   "source": [
    "data = raw\n",
    "data"
   ]
  },
  {
   "cell_type": "code",
   "execution_count": 40,
   "metadata": {},
   "outputs": [],
   "source": [
    "df = pd.DataFrame(data, columns = ['record_num', 'group_id', 'member_id', 'condition', 'product', 'cost', 'date'])"
   ]
  },
  {
   "cell_type": "code",
   "execution_count": 46,
   "metadata": {},
   "outputs": [
    {
     "data": {
      "text/html": [
       "<div>\n",
       "<style scoped>\n",
       "    .dataframe tbody tr th:only-of-type {\n",
       "        vertical-align: middle;\n",
       "    }\n",
       "\n",
       "    .dataframe tbody tr th {\n",
       "        vertical-align: top;\n",
       "    }\n",
       "\n",
       "    .dataframe thead th {\n",
       "        text-align: right;\n",
       "    }\n",
       "</style>\n",
       "<table border=\"1\" class=\"dataframe\">\n",
       "  <thead>\n",
       "    <tr style=\"text-align: right;\">\n",
       "      <th></th>\n",
       "      <th>record_num</th>\n",
       "      <th>group_id</th>\n",
       "      <th>member_id</th>\n",
       "      <th>condition</th>\n",
       "      <th>product</th>\n",
       "      <th>cost</th>\n",
       "      <th>date</th>\n",
       "    </tr>\n",
       "  </thead>\n",
       "  <tbody>\n",
       "    <tr>\n",
       "      <th>0</th>\n",
       "      <td>22</td>\n",
       "      <td>C697397db6633abf8682a1f9c48973d5a</td>\n",
       "      <td>U70fb335841b02167ed020507b7b2eda8</td>\n",
       "      <td>true</td>\n",
       "      <td>水費 電費</td>\n",
       "      <td>800 1200</td>\n",
       "      <td>2022-09-15 2022-09-17</td>\n",
       "    </tr>\n",
       "  </tbody>\n",
       "</table>\n",
       "</div>"
      ],
      "text/plain": [
       "   record_num                           group_id  \\\n",
       "0          22  C697397db6633abf8682a1f9c48973d5a   \n",
       "\n",
       "                           member_id condition product      cost  \\\n",
       "0  U70fb335841b02167ed020507b7b2eda8      true   水費 電費  800 1200   \n",
       "\n",
       "                    date  \n",
       "0  2022-09-15 2022-09-17  "
      ]
     },
     "execution_count": 46,
     "metadata": {},
     "output_type": "execute_result"
    }
   ],
   "source": [
    "df"
   ]
  },
  {
   "cell_type": "code",
   "execution_count": 55,
   "metadata": {},
   "outputs": [
    {
     "data": {
      "text/plain": [
       "[[('C697397db6633abf8682a1f9c48973d5a',\n",
       "   'U70fb335841b02167ed020507b7b2eda8',\n",
       "   '水費',\n",
       "   800,\n",
       "   '2022-09-15'),\n",
       "  ('C697397db6633abf8682a1f9c48973d5a',\n",
       "   'U70fb335841b02167ed020507b7b2eda8',\n",
       "   '電費',\n",
       "   1200,\n",
       "   '2022-09-17')]]"
      ]
     },
     "execution_count": 55,
     "metadata": {},
     "output_type": "execute_result"
    }
   ],
   "source": [
    "record_list = flex_prepare_record(df)\n",
    "record_tuple = [record_list]\n",
    "record_tuple"
   ]
  },
  {
   "cell_type": "code",
   "execution_count": 47,
   "metadata": {},
   "outputs": [
    {
     "data": {
      "text/plain": [
       "True"
      ]
     },
     "execution_count": 47,
     "metadata": {},
     "output_type": "execute_result"
    }
   ],
   "source": [
    "st = \"string\"\n",
    "isinstance(st, str)"
   ]
  },
  {
   "cell_type": "code",
   "execution_count": 33,
   "metadata": {},
   "outputs": [
    {
     "name": "stdout",
     "output_type": "stream",
     "text": [
      "[False, True, False, False, False, False, False, False]\n"
     ]
    }
   ],
   "source": [
    "condition = []\n",
    "for i in df[\"product\"]:\n",
    "    solo_condition =\"食物\" == i\n",
    "    condition.append(solo_condition)\n",
    "\n",
    "print(condition)\n"
   ]
  },
  {
   "cell_type": "code",
   "execution_count": 35,
   "metadata": {},
   "outputs": [
    {
     "data": {
      "text/plain": [
       "True"
      ]
     },
     "execution_count": 35,
     "metadata": {},
     "output_type": "execute_result"
    }
   ],
   "source": [
    "True in condition"
   ]
  },
  {
   "cell_type": "code",
   "execution_count": 19,
   "metadata": {},
   "outputs": [
    {
     "name": "stdout",
     "output_type": "stream",
     "text": [
      "['[\"TRUE\"]', ' [ 飲料 書 餅乾 ]']\n"
     ]
    }
   ],
   "source": [
    "string = data[3]\n",
    "print(string.split(\",\"))"
   ]
  },
  {
   "cell_type": "code",
   "execution_count": 81,
   "metadata": {},
   "outputs": [],
   "source": [
    "cursor.fetchone()\n",
    "# fetchmany() 抓出填進括號的數量\n",
    "# fetchall() 抓全部出來"
   ]
  },
  {
   "cell_type": "markdown",
   "metadata": {},
   "source": [
    "### 修改資料"
   ]
  },
  {
   "cell_type": "code",
   "execution_count": null,
   "metadata": {},
   "outputs": [],
   "source": [
    "DATABASE_URL = os.popen('heroku config:get DATABASE_URL -a qianqianguanjia').read()[:-1]\n",
    "\n",
    "conn = psycopg2.connect(DATABASE_URL, sslmode='require')\n",
    "cursor = conn.cursor()\n",
    "\n",
    "training = '牧草訓練'\n",
    "postgres_update_query = f\"\"\"UPDATE payment_data SET training = '牧草進食' WHERE training = %s\"\"\"\n",
    "\n",
    "cursor.execute(postgres_update_query, (training,))\n",
    "conn.commit()\n",
    "\n",
    "count = cursor.rowcount\n",
    "\n",
    "print(count, \"Record updated successfully into payment_data\")"
   ]
  },
  {
   "cell_type": "code",
   "execution_count": 74,
   "metadata": {},
   "outputs": [
    {
     "name": "stdout",
     "output_type": "stream",
     "text": [
      "召喚錢錢管家幫我算一下\n",
      "2022-08\n"
     ]
    }
   ],
   "source": [
    "text = \"召喚錢錢管家幫我算一下\\n2022-08\"\n",
    "print(text)"
   ]
  },
  {
   "cell_type": "code",
   "execution_count": 66,
   "metadata": {},
   "outputs": [],
   "source": [
    "def prepare_calculation(text):\n",
    "    text_list = text.split('\\n')\n",
    "    time = text_list[1]\n",
    "\n",
    "    return time\n",
    "\n",
    "def individual_cost(data_frame, name_list):\n",
    "    paylist = []\n",
    "    for i in name_list:\n",
    "        new_df = df1 = data_frame[data_frame['payer'] == i]\n",
    "        total_pay = [i, new_df['cost'].sum()]\n",
    "        paylist.append(total_pay)\n",
    "    \n",
    "    return paylist\n",
    "\n",
    "def give_and_take(paylist, average):\n",
    "    total_list = []\n",
    "    for i in paylist:\n",
    "        total = [i[0], i[1]-average]\n",
    "        total_list.append(total)\n",
    "    \n",
    "    return(total_list)\n",
    "\n",
    "def line_calculate_money(time, group_name): #時間格式：西元年-兩位數月份\n",
    "    DATABASE_URL = os.popen('heroku config:get DATABASE_URL -a qianqianguanjia').read()[:-1]\n",
    "\n",
    "    conn = psycopg2.connect(DATABASE_URL, sslmode='require')\n",
    "    cursor = conn.cursor()\n",
    "    n = time\n",
    "    group = \"('\"+ group_name + \"')\"\n",
    "    postgres_select_query = f\"\"\"SELECT * FROM payment_data \n",
    "                            WHERE group_name IN {group}\n",
    "                            AND date BETWEEN '{n}-01' AND '{n}-31';\n",
    "                            \"\"\"\n",
    "    cursor.execute(postgres_select_query)\n",
    "    raw_data = cursor.fetchall()\n",
    "    cursor.close()\n",
    "    conn.close()\n",
    "\n",
    "    data = pd.DataFrame(raw_data, columns = ['record_num', 'group', 'payer', 'product', 'cost', 'date'])\n",
    "\n",
    "    return data"
   ]
  },
  {
   "cell_type": "code",
   "execution_count": 54,
   "metadata": {},
   "outputs": [
    {
     "name": "stdout",
     "output_type": "stream",
     "text": [
      "   record_num group   payer product  cost        date\n",
      "0           2   hey  In Bed       書   200  2022-08-15\n",
      "1           3   hey  In Bed       票  2000  2022-08-27\n",
      "2           4   hey   Berry      飲料   150  2022-08-15\n"
     ]
    }
   ],
   "source": [
    "group = 'hey'\n",
    "data = line_calculate_money(time, group)\n",
    "print(data)"
   ]
  },
  {
   "cell_type": "code",
   "execution_count": 57,
   "metadata": {},
   "outputs": [
    {
     "name": "stdout",
     "output_type": "stream",
     "text": [
      "<class 'pandas.core.series.Series'>\n"
     ]
    }
   ],
   "source": [
    "print(type(data['cost']))"
   ]
  },
  {
   "cell_type": "code",
   "execution_count": 69,
   "metadata": {},
   "outputs": [],
   "source": [
    "group_member_list = ['In Bed', 'Berry']\n",
    "average = data['cost'].sum()/2"
   ]
  },
  {
   "cell_type": "code",
   "execution_count": 70,
   "metadata": {},
   "outputs": [
    {
     "name": "stdout",
     "output_type": "stream",
     "text": [
      "783.3333333333334\n"
     ]
    }
   ],
   "source": [
    "print(average)"
   ]
  },
  {
   "cell_type": "code",
   "execution_count": 67,
   "metadata": {},
   "outputs": [
    {
     "name": "stdout",
     "output_type": "stream",
     "text": [
      "[['In Bed', 2200], ['Berry', 150]]\n"
     ]
    }
   ],
   "source": [
    "calculation = individual_cost(data, group_member_list)\n",
    "print(calculation)"
   ]
  },
  {
   "cell_type": "code",
   "execution_count": 80,
   "metadata": {},
   "outputs": [],
   "source": [
    "time = prepare_calculation(text)\n",
    "group = 'hey'\n",
    "data = line_calculate_money(time, group)\n",
    "average = round(data['cost'].sum()/2)\n",
    "group_member_list = ['In Bed', 'Berry']\n",
    "calculation = individual_cost(data, group_member_list)\n",
    "result = give_and_take(calculation, average)\n",
    "message = \"\"\n",
    "for i in range(len(result)):\n",
    "                if i != 0:\n",
    "                    if result[i][1] < 0:\n",
    "                        sentence = \"\\n\" + result[i][0] + \"要再付\" + str(abs(result[i][1])) + \"元\"\n",
    "                    elif result[i][1] == 0:\n",
    "                        snetence = \"\\n\" + result[i][0] + \"不用付錢\\n\"\n",
    "                    else:\n",
    "                        sentence = \"\\n\" + result[i][0] + \"要收到\" + str(result[i][1]) + \"元\\n\"\n",
    "                    message = message+sentence\n",
    "                else:\n",
    "                    if result[i][1] < 0:\n",
    "                        sentence = result[i][0] + \"要再付\" + str(abs(result[i][1])) + \"元\"\n",
    "                    elif result[i][1] == 0:\n",
    "                        snetence = result[i][0] + \"不用付錢\"\n",
    "                    else:\n",
    "                        sentence = result[i][0] + \"要收到\" + str(result[i][1]) + \"元\"\n",
    "                    message = message+sentence"
   ]
  },
  {
   "cell_type": "code",
   "execution_count": 79,
   "metadata": {},
   "outputs": [
    {
     "name": "stdout",
     "output_type": "stream",
     "text": [
      "Hello\n",
      "Hi\n"
     ]
    }
   ],
   "source": [
    "raw = 'Hello\\n'\n",
    "raaw = 'Hi'\n",
    "trry = raw+raaw\n",
    "print(trry)"
   ]
  },
  {
   "cell_type": "code",
   "execution_count": 81,
   "metadata": {},
   "outputs": [
    {
     "name": "stdout",
     "output_type": "stream",
     "text": [
      "In Bed要收到1025元\n",
      "Berry要再付1025元\n"
     ]
    }
   ],
   "source": [
    "print(message)"
   ]
  },
  {
   "cell_type": "code",
   "execution_count": 7,
   "metadata": {},
   "outputs": [
    {
     "data": {
      "text/plain": [
       "'2022-09'"
      ]
     },
     "execution_count": 7,
     "metadata": {},
     "output_type": "execute_result"
    }
   ],
   "source": [
    "time = \"召喚錢錢管家算一下\\n2022-09\"\n",
    "time_list = time.split(\"\\n\")\n",
    "time_list[1]"
   ]
  },
  {
   "cell_type": "code",
   "execution_count": 9,
   "metadata": {},
   "outputs": [],
   "source": [
    "DATABASE_URL = os.popen('heroku config:get DATABASE_URL -a qianqianguanjia').read()[:-1]\n",
    "time = [\"2022\", \"09\"]\n",
    "conn = psycopg2.connect(DATABASE_URL, sslmode='require')\n",
    "cursor = conn.cursor()\n",
    "year = time[0]\n",
    "month = time[1]\n",
    "group_id = \"C697397db6633abf8682a1f9c48973d5a\"\n",
    "group = \"('\"+ group_id + \"')\"\n",
    "big = [\"01\", \"03\", \"05\", \"07\", \"08\", \"10\", \"11\"]\n",
    "if month in big:\n",
    "        postgres_select_query = f\"\"\"SELECT * FROM payment_data \n",
    "                                WHERE group_id = {group}\n",
    "                                AND date BETWEEN '{year}-{month}-01' AND '{year}-{month}-31';\n",
    "                                \"\"\"\n",
    "elif month == \"02\" and year % 4 == 0:\n",
    "        postgres_select_query = f\"\"\"SELECT * FROM payment_data \n",
    "                                WHERE group_id = {group}\n",
    "                                AND date BETWEEN '{year}-{month}-01' AND '{year}-{month}-29';\n",
    "                                \"\"\"\n",
    "elif month == \"02\" and year % 4 != 0:\n",
    "        postgres_select_query = f\"\"\"SELECT * FROM payment_data \n",
    "                                WHERE group_id = {group}\n",
    "                                AND date BETWEEN '{year}-{month}-01' AND '{year}-{month}-28';\n",
    "                                \"\"\"                            \n",
    "else:\n",
    "        postgres_select_query = f\"\"\"SELECT * FROM payment_data \n",
    "                                WHERE group_id = {group}\n",
    "                                AND date BETWEEN '{year}-{month}-01' AND '{year}-{month}-30';\n",
    "                                \"\"\"\n",
    "\n",
    "cursor.execute(postgres_select_query)\n",
    "raw_data = cursor.fetchall()\n",
    "data = pd.DataFrame(raw_data, columns = ['record_num', 'group', 'payer', 'product', 'cost', 'date'])\n",
    "    \n",
    "cursor.close()\n",
    "conn.close()"
   ]
  },
  {
   "cell_type": "code",
   "execution_count": 22,
   "metadata": {},
   "outputs": [
    {
     "data": {
      "text/plain": [
       "False"
      ]
     },
     "execution_count": 22,
     "metadata": {},
     "output_type": "execute_result"
    }
   ],
   "source": [
    "\"零食\" in pd.Series.tolist(data[\"product\"])"
   ]
  }
 ],
 "metadata": {
  "kernelspec": {
   "display_name": "Python 3.10.1 64-bit",
   "language": "python",
   "name": "python3"
  },
  "language_info": {
   "codemirror_mode": {
    "name": "ipython",
    "version": 3
   },
   "file_extension": ".py",
   "mimetype": "text/x-python",
   "name": "python",
   "nbconvert_exporter": "python",
   "pygments_lexer": "ipython3",
   "version": "3.10.1"
  },
  "orig_nbformat": 4,
  "vscode": {
   "interpreter": {
    "hash": "e450050b432e843bda3c41bf3272c133bfc370a7003f3e377e27f87a49ce1127"
   }
  }
 },
 "nbformat": 4,
 "nbformat_minor": 2
}
